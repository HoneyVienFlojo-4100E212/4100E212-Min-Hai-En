{
  "nbformat": 4,
  "nbformat_minor": 0,
  "metadata": {
    "colab": {
      "name": "20211011_Min Haien.ipynb",
      "provenance": [],
      "collapsed_sections": []
    },
    "kernelspec": {
      "name": "python3",
      "display_name": "Python 3"
    },
    "language_info": {
      "name": "python"
    }
  },
  "cells": [
    {
      "cell_type": "markdown",
      "metadata": {
        "id": "p8KbvNzcCj0M"
      },
      "source": [
        "Flojo, Honey Vien T.\n",
        "Min Hai En \n",
        "4100E212\n",
        "NUMERICS DATA TYPE"
      ]
    },
    {
      "cell_type": "code",
      "metadata": {
        "colab": {
          "base_uri": "https://localhost:8080/"
        },
        "id": "IxXMq0NY781T",
        "outputId": "2431ea3b-6439-4c94-a98e-cbc0aa3b4aed"
      },
      "source": [
        "a = 122 / 3\n",
        "a"
      ],
      "execution_count": 10,
      "outputs": [
        {
          "output_type": "execute_result",
          "data": {
            "text/plain": [
              "40.666666666666664"
            ]
          },
          "metadata": {},
          "execution_count": 10
        }
      ]
    },
    {
      "cell_type": "code",
      "metadata": {
        "colab": {
          "base_uri": "https://localhost:8080/"
        },
        "id": "nXtCE7OS8AQ_",
        "outputId": "4fa9a18a-4378-4624-d157-06268f9623d4"
      },
      "source": [
        "b = 223// 3\n",
        "b"
      ],
      "execution_count": 11,
      "outputs": [
        {
          "output_type": "execute_result",
          "data": {
            "text/plain": [
              "74"
            ]
          },
          "metadata": {},
          "execution_count": 11
        }
      ]
    },
    {
      "cell_type": "code",
      "metadata": {
        "colab": {
          "base_uri": "https://localhost:8080/"
        },
        "id": "lzl1BvwG8C9b",
        "outputId": "1309167d-0c2e-4201-9d51-1c0e4f0b604e"
      },
      "source": [
        "c = 221 % 3\n",
        "c"
      ],
      "execution_count": 12,
      "outputs": [
        {
          "output_type": "execute_result",
          "data": {
            "text/plain": [
              "2"
            ]
          },
          "metadata": {},
          "execution_count": 12
        }
      ]
    },
    {
      "cell_type": "code",
      "metadata": {
        "colab": {
          "base_uri": "https://localhost:8080/"
        },
        "id": "fgYKqEvB8GJP",
        "outputId": "38afd730-fd46-4af3-de08-9e0ef411c155"
      },
      "source": [
        "x = 9\n",
        "print(x > 8 and x < 10)"
      ],
      "execution_count": 16,
      "outputs": [
        {
          "output_type": "stream",
          "name": "stdout",
          "text": [
            "True\n"
          ]
        }
      ]
    },
    {
      "cell_type": "code",
      "metadata": {
        "colab": {
          "base_uri": "https://localhost:8080/"
        },
        "id": "VvJjaO-G3mNx",
        "outputId": "aa9add74-a59d-4ab8-b1d3-a8a4e640aadc"
      },
      "source": [
        "x = 5\n",
        "print(x > 3 and x > 10)"
      ],
      "execution_count": 6,
      "outputs": [
        {
          "output_type": "stream",
          "name": "stdout",
          "text": [
            "False\n"
          ]
        }
      ]
    },
    {
      "cell_type": "markdown",
      "metadata": {
        "id": "gxMpUciqAEoJ"
      },
      "source": [
        "[Built in functions]\n",
        "\n"
      ]
    },
    {
      "cell_type": "code",
      "metadata": {
        "colab": {
          "base_uri": "https://localhost:8080/",
          "height": 35
        },
        "id": "SIVpnskn8Uhm",
        "outputId": "3a183265-47e7-4573-b9a3-0d213fd99d9c"
      },
      "source": [
        "bin(3)"
      ],
      "execution_count": 18,
      "outputs": [
        {
          "output_type": "execute_result",
          "data": {
            "application/vnd.google.colaboratory.intrinsic+json": {
              "type": "string"
            },
            "text/plain": [
              "'0b11'"
            ]
          },
          "metadata": {},
          "execution_count": 18
        }
      ]
    },
    {
      "cell_type": "code",
      "metadata": {
        "colab": {
          "base_uri": "https://localhost:8080/"
        },
        "id": "8izlBZQa_qZ-",
        "outputId": "c2fcf99c-2588-45b8-a162-076f0b0bfc6b"
      },
      "source": [
        "int(0b111)"
      ],
      "execution_count": 9,
      "outputs": [
        {
          "output_type": "execute_result",
          "data": {
            "text/plain": [
              "7"
            ]
          },
          "metadata": {},
          "execution_count": 9
        }
      ]
    },
    {
      "cell_type": "markdown",
      "metadata": {
        "id": "zMGKEb_3ETvf"
      },
      "source": [
        "\n",
        "str3 = 'allows embedded \"double\" quotes'"
      ]
    },
    {
      "cell_type": "code",
      "metadata": {
        "colab": {
          "base_uri": "https://localhost:8080/"
        },
        "id": "pANMpG2UA1Ay",
        "outputId": "89b79e1d-5627-4e86-e914-8a9fa0248504"
      },
      "source": [
        "var1 = 'Almighty Yaksha'\n",
        "\n",
        "print(\"var1[0]: \", var1[0])"
      ],
      "execution_count": 25,
      "outputs": [
        {
          "output_type": "stream",
          "name": "stdout",
          "text": [
            "var1[0]:  A\n"
          ]
        }
      ]
    },
    {
      "cell_type": "code",
      "metadata": {
        "colab": {
          "base_uri": "https://localhost:8080/"
        },
        "id": "bTbJKwKEEXPq",
        "outputId": "c38c865c-f56c-4d5e-d9ca-b3b53a272f8a"
      },
      "source": [
        "b = \"Almighty Yaksha!\"\n",
        "print(b[2:5])"
      ],
      "execution_count": 26,
      "outputs": [
        {
          "output_type": "stream",
          "name": "stdout",
          "text": [
            "mig\n"
          ]
        }
      ]
    },
    {
      "cell_type": "code",
      "metadata": {
        "colab": {
          "base_uri": "https://localhost:8080/"
        },
        "id": "j7fq8Yd0Eovm",
        "outputId": "b312a6fd-96eb-49ec-9134-e60ced7098f1"
      },
      "source": [
        "print(b[:5])"
      ],
      "execution_count": 27,
      "outputs": [
        {
          "output_type": "stream",
          "name": "stdout",
          "text": [
            "Almig\n"
          ]
        }
      ]
    },
    {
      "cell_type": "code",
      "metadata": {
        "colab": {
          "base_uri": "https://localhost:8080/"
        },
        "id": "p4AZCf7VExF4",
        "outputId": "3da26df8-3229-4a8a-a18d-0340ad3e5342"
      },
      "source": [
        "print(b[2:])"
      ],
      "execution_count": 28,
      "outputs": [
        {
          "output_type": "stream",
          "name": "stdout",
          "text": [
            "mighty Yaksha!\n"
          ]
        }
      ]
    },
    {
      "cell_type": "code",
      "metadata": {
        "colab": {
          "base_uri": "https://localhost:8080/"
        },
        "id": "0ciXTSYKE2JD",
        "outputId": "34cdecaf-f354-4413-c06c-8ef805e91607"
      },
      "source": [
        "print(b[-5:-2]) "
      ],
      "execution_count": 29,
      "outputs": [
        {
          "output_type": "stream",
          "name": "stdout",
          "text": [
            "ksh\n"
          ]
        }
      ]
    },
    {
      "cell_type": "markdown",
      "metadata": {
        "id": "e7oGKoPpHFJT"
      },
      "source": [
        "STRING METHOD"
      ]
    },
    {
      "cell_type": "code",
      "metadata": {
        "colab": {
          "base_uri": "https://localhost:8080/"
        },
        "id": "eu2D1Bz9HEzE",
        "outputId": "c6005de6-db0b-4d05-ac34-5c379e069566"
      },
      "source": [
        "Hinata = \"Boke\"\n",
        "x = Hinata.capitalize()\n",
        "print (x)"
      ],
      "execution_count": 31,
      "outputs": [
        {
          "output_type": "stream",
          "name": "stdout",
          "text": [
            "Boke\n"
          ]
        }
      ]
    },
    {
      "cell_type": "code",
      "metadata": {
        "colab": {
          "base_uri": "https://localhost:8080/"
        },
        "id": "kLHFbRhpH9Im",
        "outputId": "5a6eefd8-717b-4b0e-a04a-c10979dcebd0"
      },
      "source": [
        "Osmanthus = (\"Wine\", \"Stilltaste\", \"TheSame\")\n",
        "\n",
        "x = \"#\".join(Osmanthus)\n",
        "\n",
        "print(x)"
      ],
      "execution_count": 33,
      "outputs": [
        {
          "output_type": "stream",
          "name": "stdout",
          "text": [
            "Wine#Stilltaste#TheSame\n"
          ]
        }
      ]
    },
    {
      "cell_type": "code",
      "metadata": {
        "colab": {
          "base_uri": "https://localhost:8080/"
        },
        "id": "Q1k6DdNSINMu",
        "outputId": "14a533d9-1391-4c48-8efb-f5c424685070"
      },
      "source": [
        "txt = \"Apple\"\n",
        "\n",
        "x = txt.ljust(20)\n",
        "\n",
        "print(x, \"is my favorite fruit.\")"
      ],
      "execution_count": 34,
      "outputs": [
        {
          "output_type": "stream",
          "name": "stdout",
          "text": [
            "Apple                is my favorite fruit.\n"
          ]
        }
      ]
    },
    {
      "cell_type": "code",
      "metadata": {
        "colab": {
          "base_uri": "https://localhost:8080/"
        },
        "id": "Afu63oFiION8",
        "outputId": "a2e56708-f492-4f8b-ab55-68e390e3af33"
      },
      "source": [
        "txt = \"     Apple     \"\n",
        "\n",
        "x = txt.lstrip()\n",
        "\n",
        "print(\"of all fruits\", x, \"is my favorite\")"
      ],
      "execution_count": 35,
      "outputs": [
        {
          "output_type": "stream",
          "name": "stdout",
          "text": [
            "of all fruits Apple      is my favorite\n"
          ]
        }
      ]
    },
    {
      "cell_type": "markdown",
      "metadata": {
        "id": "m29hOyXAK6YD"
      },
      "source": [
        "LIST DATA TYPE"
      ]
    },
    {
      "cell_type": "code",
      "metadata": {
        "colab": {
          "base_uri": "https://localhost:8080/"
        },
        "id": "Bjnclm5qMBLK",
        "outputId": "a5295e45-2fef-4c51-bccc-1620fae72959"
      },
      "source": [
        "list1 = [90, 56, 14, 56, 32, 98]\n",
        "\n",
        "list1[1]"
      ],
      "execution_count": 38,
      "outputs": [
        {
          "output_type": "execute_result",
          "data": {
            "text/plain": [
              "56"
            ]
          },
          "metadata": {},
          "execution_count": 38
        }
      ]
    },
    {
      "cell_type": "code",
      "metadata": {
        "colab": {
          "base_uri": "https://localhost:8080/"
        },
        "id": "J1OUbwUxJxzO",
        "outputId": "5ec5d03a-6076-420e-e6bb-3c558bce54ae"
      },
      "source": [
        "list1 = [13, 39, 14, 137, 32, 90]\n",
        "\n",
        "list1[1]\n",
        "list1[-2]\n",
        "list1[0:5]"
      ],
      "execution_count": 39,
      "outputs": [
        {
          "output_type": "execute_result",
          "data": {
            "text/plain": [
              "[13, 39, 14, 137, 32]"
            ]
          },
          "metadata": {},
          "execution_count": 39
        }
      ]
    },
    {
      "cell_type": "code",
      "metadata": {
        "colab": {
          "base_uri": "https://localhost:8080/"
        },
        "id": "yNOD-10xNN7Y",
        "outputId": "320f6fd8-ce00-4762-dfcb-d3fd912f958d"
      },
      "source": [
        "max(list1)"
      ],
      "execution_count": 40,
      "outputs": [
        {
          "output_type": "execute_result",
          "data": {
            "text/plain": [
              "137"
            ]
          },
          "metadata": {},
          "execution_count": 40
        }
      ]
    },
    {
      "cell_type": "code",
      "metadata": {
        "colab": {
          "base_uri": "https://localhost:8080/"
        },
        "id": "qNRekfE5NP9_",
        "outputId": "839b87d4-4a78-4df9-905d-f8be4adb0723"
      },
      "source": [
        "len(list1)"
      ],
      "execution_count": 41,
      "outputs": [
        {
          "output_type": "execute_result",
          "data": {
            "text/plain": [
              "6"
            ]
          },
          "metadata": {},
          "execution_count": 41
        }
      ]
    },
    {
      "cell_type": "code",
      "metadata": {
        "colab": {
          "base_uri": "https://localhost:8080/"
        },
        "id": "pxDHHgWBNTge",
        "outputId": "b277ad2d-f92c-4fdb-c450-299c1a1254b1"
      },
      "source": [
        "min(list1)"
      ],
      "execution_count": 42,
      "outputs": [
        {
          "output_type": "execute_result",
          "data": {
            "text/plain": [
              "13"
            ]
          },
          "metadata": {},
          "execution_count": 42
        }
      ]
    },
    {
      "cell_type": "markdown",
      "metadata": {
        "id": "dwdbfn3hNYb1"
      },
      "source": [
        "DICT DATA TYPE"
      ]
    },
    {
      "cell_type": "code",
      "metadata": {
        "colab": {
          "base_uri": "https://localhost:8080/"
        },
        "id": "R7y8_U7ZNYOz",
        "outputId": "3067b2db-44a4-49c7-a72a-55153e557e64"
      },
      "source": [
        "thisdict = {\n",
        "    \"Topic\": \"Laptop\",\n",
        "    \"Model\":\"Pavilion\",\n",
        "    \"Made In\": \"United States\"\n",
        "}\n",
        "print(thisdict)"
      ],
      "execution_count": 55,
      "outputs": [
        {
          "output_type": "stream",
          "name": "stdout",
          "text": [
            "{'Topic': 'Laptop', 'Model': 'Pavilion', 'Made In': 'United States'}\n"
          ]
        }
      ]
    },
    {
      "cell_type": "code",
      "metadata": {
        "colab": {
          "base_uri": "https://localhost:8080/"
        },
        "id": "M4WZTHKgPv7U",
        "outputId": "82ce19a3-1027-426c-e30a-dc497c50281e"
      },
      "source": [
        "print(\"thisdict['Topic']: \", thisdict['Topic'])"
      ],
      "execution_count": 56,
      "outputs": [
        {
          "output_type": "stream",
          "name": "stdout",
          "text": [
            "thisdict['Topic']:  Laptop\n"
          ]
        }
      ]
    }
  ]
}
{
  "nbformat": 4,
  "nbformat_minor": 0,
  "metadata": {
    "colab": {
      "name": "MIN HAI EN midterm.ipynb",
      "provenance": [],
      "include_colab_link": true
    },
    "kernelspec": {
      "name": "python3",
      "display_name": "Python 3"
    },
    "language_info": {
      "name": "python"
    }
  },
  "cells": [
    {
      "cell_type": "markdown",
      "metadata": {
        "id": "view-in-github",
        "colab_type": "text"
      },
      "source": [
        "<a href=\"https://colab.research.google.com/github/HoneyVienFlojo-4100E212/4100E212-Min-Hai-En/blob/main/MIN_HAI_EN_midterm.ipynb\" target=\"_parent\"><img src=\"https://colab.research.google.com/assets/colab-badge.svg\" alt=\"Open In Colab\"/></a>"
      ]
    },
    {
      "cell_type": "markdown",
      "metadata": {
        "id": "jDFunaLQpg8V"
      },
      "source": [
        "PRINTF FUNCTIONS"
      ]
    },
    {
      "cell_type": "code",
      "metadata": {
        "colab": {
          "base_uri": "https://localhost:8080/"
        },
        "id": "8xc0mpHOoqUV",
        "outputId": "39731a5f-7a0d-4358-f14d-9e75926885ce"
      },
      "source": [
        "def sum(a1, a2, a3):\n",
        "    result = 0\n",
        "    for a in range(a1, a2, a3):\n",
        "        result += a\n",
        "    return result\n",
        "\n",
        "def main():\n",
        "    print(\"Sum from 10 to 20 is\", sum(1, 11, 1)) \n",
        "    print(\"Sum from 20 to 40 is\", sum(20, 38, 2))\n",
        "    print(\"Sum from 30 to 50 is\", sum(35, 50, 3))\n",
        "\n",
        "main() # Call the main function\n"
      ],
      "execution_count": 1,
      "outputs": [
        {
          "output_type": "stream",
          "name": "stdout",
          "text": [
            "Sum from 10 to 20 is 55\n",
            "Sum from 20 to 40 is 252\n",
            "Sum from 30 to 50 is 205\n"
          ]
        }
      ]
    },
    {
      "cell_type": "code",
      "metadata": {
        "colab": {
          "base_uri": "https://localhost:8080/"
        },
        "id": "TCUBHuoNo7PD",
        "outputId": "be15ebd3-f5ae-417b-8cbc-e63c54e9cb7a"
      },
      "source": [
        "def sort(number7, number8):\n",
        "    if number7 < number8:\n",
        "        return number7, number8\n",
        "    else:\n",
        "        return number8, number7\n",
        "\n",
        "num7, num8 = sort(31, 25)\n",
        "\n",
        "print(\"num7 is\", num7)\n",
        "print(\"num8 is\", num8)"
      ],
      "execution_count": 5,
      "outputs": [
        {
          "output_type": "stream",
          "name": "stdout",
          "text": [
            "num7 is 25\n",
            "num8 is 31\n"
          ]
        }
      ]
    },
    {
      "cell_type": "code",
      "metadata": {
        "colab": {
          "base_uri": "https://localhost:8080/"
        },
        "id": "oxxU3OscpEzF",
        "outputId": "57c3cd73-929f-41e1-cb11-1e8571ade63e"
      },
      "source": [
        "def sort(number7, number8, number9):\n",
        "    if (number7 < number8) and (number7 < number9):\n",
        "      if number8 < number9:\n",
        "        return number7, number8,number9\n",
        "      else:\n",
        "        return number7, number9,number8\n",
        "    if (number8< number7) and (number8 < number9):\n",
        "      if number7 < number9:\n",
        "        return number8, number7,number9\n",
        "      else:\n",
        "        return number8, number9,number7    \n",
        "    if (number9 < number7) and (number9 < number8):\n",
        "      if number7 < number8:\n",
        "        return number9, number7,number8\n",
        "      else:\n",
        "        return number9, number8,number7 \n",
        "\n",
        "num7, num8, num9  = sort(13,14,15)\n",
        "\n",
        "print(\"num7 is\", num7)\n",
        "print(\"num8 is\", num8)\n",
        "print(\"num9 is\", num9)"
      ],
      "execution_count": 6,
      "outputs": [
        {
          "output_type": "stream",
          "name": "stdout",
          "text": [
            "num7 is 13\n",
            "num8 is 14\n",
            "num9 is 15\n"
          ]
        }
      ]
    },
    {
      "cell_type": "code",
      "metadata": {
        "id": "LctrzwBTpHVE"
      },
      "source": [
        "#!/usr/bin/python \n",
        "# -*- coding: UTF-8 -*- \n",
        "\n",
        "def printArea(width = 17, height = 18):\n",
        "    area = width * height\n",
        "    print(\"width:\", width, \"\\theight:\", height, \"\\tarea:\", area)"
      ],
      "execution_count": 7,
      "outputs": []
    },
    {
      "cell_type": "markdown",
      "metadata": {
        "id": "zoss3C0Bpsyc"
      },
      "source": [
        "IF ELSE"
      ]
    },
    {
      "cell_type": "code",
      "metadata": {
        "id": "eqh-dZcApOZo"
      },
      "source": [
        "a = 333\n",
        "b = 33\n",
        "if b > a:\n",
        "  print(\"b is greater than a\")\n",
        "elif a == b:\n",
        "  print(\"a and b are equal\")\n",
        "else:\n",
        "  print(\"a is greater than b\")"
      ],
      "execution_count": null,
      "outputs": []
    },
    {
      "cell_type": "markdown",
      "metadata": {
        "id": "dUqcjPJZqHlt"
      },
      "source": [
        "STR3"
      ]
    },
    {
      "cell_type": "code",
      "metadata": {
        "id": "i3-48oUqqcpj"
      },
      "source": [
        "var1 = 'Almighty Yaksha'\n",
        "\n",
        "print(\"var1[0]: \", var1[0])"
      ],
      "execution_count": null,
      "outputs": []
    },
    {
      "cell_type": "code",
      "metadata": {
        "id": "1JuQEMa9qdVd"
      },
      "source": [
        "b = \"Almighty Yaksha!\"\n",
        "print(b[2:5])"
      ],
      "execution_count": null,
      "outputs": []
    },
    {
      "cell_type": "markdown",
      "metadata": {
        "id": "UChBa2WKqiNt"
      },
      "source": [
        "DICT DATA TYPE"
      ]
    },
    {
      "cell_type": "code",
      "metadata": {
        "colab": {
          "base_uri": "https://localhost:8080/"
        },
        "id": "KDzBi7NkqjTb",
        "outputId": "8d74eb9d-b339-4286-b171-ce9857d9b36b"
      },
      "source": [
        "thisdict = {\n",
        "    \"Topic\": \"Laptop\",\n",
        "    \"Model\":\"Pavilion\",\n",
        "    \"Made In\": \"United States\"\n",
        "}\n",
        "print(thisdict)"
      ],
      "execution_count": 8,
      "outputs": [
        {
          "output_type": "stream",
          "name": "stdout",
          "text": [
            "{'Topic': 'Laptop', 'Model': 'Pavilion', 'Made In': 'United States'}\n"
          ]
        }
      ]
    },
    {
      "cell_type": "code",
      "metadata": {
        "colab": {
          "base_uri": "https://localhost:8080/"
        },
        "id": "YmwZXTioqnEu",
        "outputId": "8c1c65d7-ba60-4530-8fd7-337cf445293b"
      },
      "source": [
        "print(\"thisdict['Topic']: \", thisdict['Topic'])"
      ],
      "execution_count": 9,
      "outputs": [
        {
          "output_type": "stream",
          "name": "stdout",
          "text": [
            "thisdict['Topic']:  Laptop\n"
          ]
        }
      ]
    },
    {
      "cell_type": "markdown",
      "metadata": {
        "id": "3ZJrUh1VrJgU"
      },
      "source": [
        "STRING METHOD"
      ]
    },
    {
      "cell_type": "code",
      "metadata": {
        "id": "HbPeFJvTrA_U"
      },
      "source": [
        "Hinata = \"Boke\"\n",
        "x = Hinata.capitalize()\n",
        "print (x)"
      ],
      "execution_count": null,
      "outputs": []
    },
    {
      "cell_type": "code",
      "metadata": {
        "colab": {
          "base_uri": "https://localhost:8080/"
        },
        "id": "ZQ04RCrarNKN",
        "outputId": "df219a86-3d5a-4e51-fdf9-16a69fbde80b"
      },
      "source": [
        "Osmanthus = (\"Wine\", \"Stilltaste\", \"TheSame\")\n",
        "\n",
        "x = \"#\".join(Osmanthus)\n",
        "\n",
        "print(x)"
      ],
      "execution_count": 10,
      "outputs": [
        {
          "output_type": "stream",
          "name": "stdout",
          "text": [
            "Wine#Stilltaste#TheSame\n"
          ]
        }
      ]
    },
    {
      "cell_type": "markdown",
      "metadata": {
        "id": "gb2n2DbSrT1w"
      },
      "source": [
        "LIST DATA TYPE"
      ]
    },
    {
      "cell_type": "code",
      "metadata": {
        "id": "tnkl04PMrP7t"
      },
      "source": [
        "list1 = [90, 56, 14, 56, 32, 98]\n",
        "\n",
        "list1[1]\n",
        "56"
      ],
      "execution_count": null,
      "outputs": []
    },
    {
      "cell_type": "code",
      "metadata": {
        "id": "PRSHS5mGrQB-"
      },
      "source": [
        "list1 = [13, 39, 14, 137, 32, 90]\n",
        "\n",
        "list1[1]\n",
        "list1[-2]\n",
        "list1[0:5]"
      ],
      "execution_count": null,
      "outputs": []
    }
  ]
}
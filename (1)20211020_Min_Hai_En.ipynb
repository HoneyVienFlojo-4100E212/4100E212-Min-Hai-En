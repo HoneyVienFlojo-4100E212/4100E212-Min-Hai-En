{
  "nbformat": 4,
  "nbformat_minor": 0,
  "metadata": {
    "colab": {
      "name": "(1)20211020 Min Hai En.ipynb",
      "provenance": [],
      "collapsed_sections": [],
      "include_colab_link": true
    },
    "kernelspec": {
      "name": "python3",
      "display_name": "Python 3"
    },
    "language_info": {
      "name": "python"
    }
  },
  "cells": [
    {
      "cell_type": "markdown",
      "metadata": {
        "id": "view-in-github",
        "colab_type": "text"
      },
      "source": [
        "<a href=\"https://colab.research.google.com/github/HoneyVienFlojo-4100E212/4100E212-Min-Hai-En/blob/main/(1)20211020_Min_Hai_En.ipynb\" target=\"_parent\"><img src=\"https://colab.research.google.com/assets/colab-badge.svg\" alt=\"Open In Colab\"/></a>"
      ]
    },
    {
      "cell_type": "code",
      "metadata": {
        "colab": {
          "base_uri": "https://localhost:8080/"
        },
        "id": "xsLw0x8aSIIg",
        "outputId": "c8f38f6c-a0c7-4f14-aed3-a6f03078b739"
      },
      "source": [
        "def sum(a1, a2, a3):\n",
        "    result = 0\n",
        "    for a in range(a1, a2, a3):\n",
        "        result += a\n",
        "    return result\n",
        "\n",
        "def main():\n",
        "    print(\"Sum from 10 to 20 is\", sum(1, 11, 1)) \n",
        "    print(\"Sum from 20 to 40 is\", sum(20, 38, 2))\n",
        "    print(\"Sum from 30 to 50 is\", sum(35, 50, 3))\n",
        "\n",
        "main() # Call the main function\n"
      ],
      "execution_count": 20,
      "outputs": [
        {
          "output_type": "stream",
          "name": "stdout",
          "text": [
            "Sum from 10 to 20 is 55\n",
            "Sum from 20 to 40 is 252\n",
            "Sum from 30 to 50 is 205\n"
          ]
        }
      ]
    },
    {
      "cell_type": "code",
      "metadata": {
        "colab": {
          "base_uri": "https://localhost:8080/"
        },
        "id": "2JIELWrgSU3v",
        "outputId": "4f4b7f71-6a01-45cb-9372-a619da79d11b"
      },
      "source": [
        "def swap(a,b):\n",
        "  a,b = b,a\n",
        "  return (a,b)\n",
        "\n",
        "if __name__ == '__main__':\n",
        "    x = 50\n",
        "    g = 60\n",
        "    print('x = %d,g = %d' % (x,g))\n",
        "    x,g = swap(x,y)\n",
        "    print('x = %d,g = %d' % (x,g))"
      ],
      "execution_count": 31,
      "outputs": [
        {
          "output_type": "stream",
          "name": "stdout",
          "text": [
            "x = 50,g = 60\n",
            "x = 10,g = 50\n"
          ]
        }
      ]
    },
    {
      "cell_type": "code",
      "metadata": {
        "colab": {
          "base_uri": "https://localhost:8080/"
        },
        "id": "I-TmZ8yAVju9",
        "outputId": "73e7eef4-8806-4d87-cfa2-68ee4325ae9f"
      },
      "source": [
        "def sort(number7, number8):\n",
        "    if number7 < number8:\n",
        "        return number7, number8\n",
        "    else:\n",
        "        return number8, number7\n",
        "\n",
        "num7, num8 = sort(31, 25)\n",
        "\n",
        "print(\"num7 is\", num7)\n",
        "print(\"num8 is\", num8)"
      ],
      "execution_count": 34,
      "outputs": [
        {
          "output_type": "stream",
          "name": "stdout",
          "text": [
            "num7 is 25\n",
            "num8 is 31\n"
          ]
        }
      ]
    },
    {
      "cell_type": "code",
      "metadata": {
        "colab": {
          "base_uri": "https://localhost:8080/"
        },
        "id": "HNzDdroaYV-Z",
        "outputId": "0e164e38-4cb9-4b6a-9d0e-a47f853b0dad"
      },
      "source": [
        "def sort(number7, number8, number9):\n",
        "    if (number7 < number8) and (number7 < number9):\n",
        "      if number8 < number9:\n",
        "        return number7, number8,number9\n",
        "      else:\n",
        "        return number7, number8,number9\n",
        "    if (number8< number7) and (number8 < number9):\n",
        "      if number7 < number9:\n",
        "        return number8, number7,number9\n",
        "      else:\n",
        "        return number8, number9,number7    \n",
        "    if (number9 < number7) and (number9 < number8):\n",
        "      if number7 < number8:\n",
        "        return number9, number7,number8\n",
        "      else:\n",
        "        return number9, number8,number7 \n",
        "\n",
        "num7, num8, num9  = sort(13,14,15)\n",
        "\n",
        "print(\"num7 is\", num7)\n",
        "print(\"num8 is\", num8)\n",
        "print(\"num9 is\", num9)\n",
        "num1 is 3"
      ],
      "execution_count": 44,
      "outputs": [
        {
          "output_type": "stream",
          "name": "stdout",
          "text": [
            "num7 is 13\n",
            "num8 is 14\n",
            "num9 is 15\n"
          ]
        },
        {
          "output_type": "execute_result",
          "data": {
            "text/plain": [
              "True"
            ]
          },
          "metadata": {},
          "execution_count": 44
        }
      ]
    }
  ]
}
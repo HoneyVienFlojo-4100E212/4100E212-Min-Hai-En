{
  "nbformat": 4,
  "nbformat_minor": 0,
  "metadata": {
    "colab": {
      "name": "20211020 Min Hai En.ipynb",
      "provenance": [],
      "collapsed_sections": [],
      "include_colab_link": true
    },
    "kernelspec": {
      "name": "python3",
      "display_name": "Python 3"
    },
    "language_info": {
      "name": "python"
    }
  },
  "cells": [
    {
      "cell_type": "markdown",
      "metadata": {
        "id": "view-in-github",
        "colab_type": "text"
      },
      "source": [
        "<a href=\"https://colab.research.google.com/github/HoneyVienFlojo-4100E212/4100E212-Min-Hai-En/blob/main/20211020_Min_Hai_En.ipynb\" target=\"_parent\"><img src=\"https://colab.research.google.com/assets/colab-badge.svg\" alt=\"Open In Colab\"/></a>"
      ]
    },
    {
      "cell_type": "code",
      "metadata": {
        "colab": {
          "base_uri": "https://localhost:8080/"
        },
        "id": "xsLw0x8aSIIg",
        "outputId": "c8f38f6c-a0c7-4f14-aed3-a6f03078b739"
      },
      "source": [
        "def sum(a1, a2, a3):\n",
        "    result = 0\n",
        "    for a in range(a1, a2, a3):\n",
        "        result += a\n",
        "    return result\n",
        "\n",
        "def main():\n",
        "    print(\"Sum from 10 to 20 is\", sum(1, 11, 1)) \n",
        "    print(\"Sum from 20 to 40 is\", sum(20, 38, 2))\n",
        "    print(\"Sum from 30 to 50 is\", sum(35, 50, 3))\n",
        "\n",
        "main() # Call the main function\n"
      ],
      "execution_count": 20,
      "outputs": [
        {
          "output_type": "stream",
          "name": "stdout",
          "text": [
            "Sum from 10 to 20 is 55\n",
            "Sum from 20 to 40 is 252\n",
            "Sum from 30 to 50 is 205\n"
          ]
        }
      ]
    },
    {
      "cell_type": "code",
      "metadata": {
        "colab": {
          "base_uri": "https://localhost:8080/"
        },
        "id": "2JIELWrgSU3v",
        "outputId": "4f4b7f71-6a01-45cb-9372-a619da79d11b"
      },
      "source": [
        "def swap(a,b):\n",
        "  a,b = b,a\n",
        "  return (a,b)\n",
        "\n",
        "if __name__ == '__main__':\n",
        "    x = 50\n",
        "    g = 60\n",
        "    print('x = %d,g = %d' % (x,g))\n",
        "    x,g = swap(x,y)\n",
        "    print('x = %d,g = %d' % (x,g))"
      ],
      "execution_count": 31,
      "outputs": [
        {
          "output_type": "stream",
          "name": "stdout",
          "text": [
            "x = 50,g = 60\n",
            "x = 10,g = 50\n"
          ]
        }
      ]
    },
    {
      "cell_type": "code",
      "metadata": {
        "colab": {
          "base_uri": "https://localhost:8080/"
        },
        "id": "I-TmZ8yAVju9",
        "outputId": "73e7eef4-8806-4d87-cfa2-68ee4325ae9f"
      },
      "source": [
        "def sort(number7, number8):\n",
        "    if number7 < number8:\n",
        "        return number7, number8\n",
        "    else:\n",
        "        return number8, number7\n",
        "\n",
        "num7, num8 = sort(31, 25)\n",
        "\n",
        "print(\"num7 is\", num7)\n",
        "print(\"num8 is\", num8)"
      ],
      "execution_count": 34,
      "outputs": [
        {
          "output_type": "stream",
          "name": "stdout",
          "text": [
            "num7 is 25\n",
            "num8 is 31\n"
          ]
        }
      ]
    },
    {
      "cell_type": "markdown",
      "metadata": {
        "id": "mFKDarZNe_m2"
      },
      "source": [
        "Sort from small to large"
      ]
    },
    {
      "cell_type": "code",
      "metadata": {
        "colab": {
          "base_uri": "https://localhost:8080/"
        },
        "id": "HNzDdroaYV-Z",
        "outputId": "44ec4a55-47e0-408a-94a0-9e43b45674fb"
      },
      "source": [
        "def sort(number7, number8, number9):\n",
        "    if (number7 < number8) and (number7 < number9):\n",
        "      if number8 < number9:\n",
        "        return number7, number8,number9\n",
        "      else:\n",
        "        return number7, number9,number8\n",
        "    if (number8< number7) and (number8 < number9):\n",
        "      if number7 < number9:\n",
        "        return number8, number7,number9\n",
        "      else:\n",
        "        return number8, number9,number7    \n",
        "    if (number9 < number7) and (number9 < number8):\n",
        "      if number7 < number8:\n",
        "        return number9, number7,number8\n",
        "      else:\n",
        "        return number9, number8,number7 \n",
        "\n",
        "num7, num8, num9  = sort(13,14,15)\n",
        "\n",
        "print(\"num7 is\", num7)\n",
        "print(\"num8 is\", num8)\n",
        "print(\"num9 is\", num9)"
      ],
      "execution_count": 51,
      "outputs": [
        {
          "output_type": "stream",
          "name": "stdout",
          "text": [
            "num7 is 13\n",
            "num8 is 14\n",
            "num9 is 15\n"
          ]
        }
      ]
    },
    {
      "cell_type": "markdown",
      "metadata": {
        "id": "G3h5IXdGcUpt"
      },
      "source": [
        "Sort from large to small"
      ]
    },
    {
      "cell_type": "code",
      "metadata": {
        "colab": {
          "base_uri": "https://localhost:8080/"
        },
        "id": "K-3dbp77bNBW",
        "outputId": "61995bec-f6c8-4639-bacf-fdb2fd60be8c"
      },
      "source": [
        "def sort(number7, number8, number9):\n",
        "    if (number7 < number8) and (number7 < number9):\n",
        "      if number8 < number9:\n",
        "        return number7, number8,number9\n",
        "      else:\n",
        "        return number7, number9,number8\n",
        "    if (number8< number7) and (number8 < number9):\n",
        "      if number7 < number9:\n",
        "        return number8, number7,number9\n",
        "      else:\n",
        "        return number8, number9,number7    \n",
        "    if (number9 < number7) and (number9 < number8):\n",
        "      if number7 < number8:\n",
        "        return number9, number7,number8\n",
        "      else:\n",
        "        return number9, number8,number7 \n",
        "\n",
        "num9, num8, num7  = sort(13,14,15)\n",
        "\n",
        "print(\"num7 is\", num7)\n",
        "print(\"num8 is\", num8)\n",
        "print(\"num9 is\", num9)"
      ],
      "execution_count": 53,
      "outputs": [
        {
          "output_type": "stream",
          "name": "stdout",
          "text": [
            "num7 is 15\n",
            "num8 is 14\n",
            "num9 is 13\n"
          ]
        }
      ]
    },
    {
      "cell_type": "code",
      "metadata": {
        "id": "DC2JvH04gNnX"
      },
      "source": [
        "#!/usr/bin/python \n",
        "# -*- coding: UTF-8 -*- \n",
        "\n",
        "def printArea(width = 17, height = 18):\n",
        "    area = width * height\n",
        "    print(\"width:\", width, \"\\theight:\", height, \"\\tarea:\", area)"
      ],
      "execution_count": 65,
      "outputs": []
    },
    {
      "cell_type": "markdown",
      "metadata": {
        "id": "VPGtsLAnhFFm"
      },
      "source": [
        "Default"
      ]
    },
    {
      "cell_type": "code",
      "metadata": {
        "colab": {
          "base_uri": "https://localhost:8080/"
        },
        "id": "UzXjmH-8gQA2",
        "outputId": "b6259ee8-8906-4ea7-8a4c-a50a9e9a64ce"
      },
      "source": [
        "printArea()"
      ],
      "execution_count": 58,
      "outputs": [
        {
          "output_type": "stream",
          "name": "stdout",
          "text": [
            "width: 17 \theight: 18 \tarea: 306\n"
          ]
        }
      ]
    },
    {
      "cell_type": "markdown",
      "metadata": {
        "id": "UKBCkum1hNTk"
      },
      "source": [
        "Keyword"
      ]
    },
    {
      "cell_type": "code",
      "metadata": {
        "colab": {
          "base_uri": "https://localhost:8080/"
        },
        "id": "-zBZLHieggGw",
        "outputId": "57205b00-b5bd-4837-a0cd-de00576dcd8f"
      },
      "source": [
        "printArea(height = 18, width = 17)"
      ],
      "execution_count": 60,
      "outputs": [
        {
          "output_type": "stream",
          "name": "stdout",
          "text": [
            "width: 17 \theight: 18 \tarea: 306\n"
          ]
        }
      ]
    },
    {
      "cell_type": "code",
      "metadata": {
        "colab": {
          "base_uri": "https://localhost:8080/"
        },
        "id": "cWi26gK5g1F2",
        "outputId": "ed679f1f-ba6d-4371-9183-57f05d4bf922"
      },
      "source": [
        "printArea(width = 17, height = 18)"
      ],
      "execution_count": 61,
      "outputs": [
        {
          "output_type": "stream",
          "name": "stdout",
          "text": [
            "width: 17 \theight: 18 \tarea: 306\n"
          ]
        }
      ]
    },
    {
      "cell_type": "markdown",
      "metadata": {
        "id": "5DhqPo3hhDl2"
      },
      "source": [
        "Positional"
      ]
    },
    {
      "cell_type": "code",
      "metadata": {
        "colab": {
          "base_uri": "https://localhost:8080/"
        },
        "id": "-uEuYyJsg5nT",
        "outputId": "65cdefc9-827f-413e-cf77-129f7751e1d1"
      },
      "source": [
        "printArea(17,18)"
      ],
      "execution_count": 63,
      "outputs": [
        {
          "output_type": "stream",
          "name": "stdout",
          "text": [
            "width: 17 \theight: 18 \tarea: 306\n"
          ]
        }
      ]
    },
    {
      "cell_type": "code",
      "metadata": {
        "colab": {
          "base_uri": "https://localhost:8080/"
        },
        "id": "Hy9hdy1HhCLP",
        "outputId": "e38c1b4d-4813-45d4-de00-f68fcb1441d6"
      },
      "source": [
        "printArea(18,17)"
      ],
      "execution_count": 64,
      "outputs": [
        {
          "output_type": "stream",
          "name": "stdout",
          "text": [
            "width: 18 \theight: 17 \tarea: 306\n"
          ]
        }
      ]
    },
    {
      "cell_type": "code",
      "metadata": {
        "colab": {
          "base_uri": "https://localhost:8080/"
        },
        "id": "cy7G5fMokBor",
        "outputId": "f0ffcc63-955b-43b9-974e-3ac8df25ebcf"
      },
      "source": [
        "f1 = lambda x, y, z: x+2*y+3*z\n",
        "print(f1(7,8,9))"
      ],
      "execution_count": 67,
      "outputs": [
        {
          "output_type": "stream",
          "name": "stdout",
          "text": [
            "50\n"
          ]
        }
      ]
    },
    {
      "cell_type": "code",
      "metadata": {
        "colab": {
          "base_uri": "https://localhost:8080/"
        },
        "id": "1kU2Wm6okHiq",
        "outputId": "7b6e17ec-1d69-48df-c312-576e593dfc70"
      },
      "source": [
        "def myfunc(m):\n",
        "    return m*m\n",
        "\n",
        "my_list = [4, 8, 12, 16, 20]\n",
        "\n",
        "\n",
        "print(list(map(lambda x:myfunc(x), my_list)))"
      ],
      "execution_count": 69,
      "outputs": [
        {
          "output_type": "stream",
          "name": "stdout",
          "text": [
            "[16, 64, 144, 256, 400]\n"
          ]
        }
      ]
    }
  ]
}